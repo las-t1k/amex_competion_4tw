{
 "cells": [
  {
   "cell_type": "code",
   "execution_count": 1,
   "id": "ed165ced",
   "metadata": {
    "_cell_guid": "b1076dfc-b9ad-4769-8c92-a6c4dae69d19",
    "_uuid": "8f2839f25d086af736a60e9eeb907d3b93b6e0e5",
    "execution": {
     "iopub.execute_input": "2022-06-16T01:15:23.671901Z",
     "iopub.status.busy": "2022-06-16T01:15:23.671467Z",
     "iopub.status.idle": "2022-06-16T01:15:24.896198Z",
     "shell.execute_reply": "2022-06-16T01:15:24.895224Z"
    },
    "papermill": {
     "duration": 1.232456,
     "end_time": "2022-06-16T01:15:24.898843",
     "exception": false,
     "start_time": "2022-06-16T01:15:23.666387",
     "status": "completed"
    },
    "tags": []
   },
   "outputs": [],
   "source": [
    "# Data\n",
    "import pandas as pd\n",
    "\n",
    "# Visualization \n",
    "import matplotlib.pyplot as plt\n",
    "import seaborn as sns\n",
    "\n",
    "# Modeling\n",
    "from sklearn.dummy import DummyClassifier\n",
    "from sklearn.model_selection import train_test_split\n",
    "\n",
    "# Metrics\n",
    "from sklearn import metrics\n"
   ]
  },
  {
   "cell_type": "code",
   "execution_count": 2,
   "id": "76e7a739",
   "metadata": {
    "execution": {
     "iopub.execute_input": "2022-06-16T01:15:24.905730Z",
     "iopub.status.busy": "2022-06-16T01:15:24.905330Z",
     "iopub.status.idle": "2022-06-16T01:15:25.855049Z",
     "shell.execute_reply": "2022-06-16T01:15:25.852318Z"
    },
    "papermill": {
     "duration": 0.955678,
     "end_time": "2022-06-16T01:15:25.857414",
     "exception": false,
     "start_time": "2022-06-16T01:15:24.901736",
     "status": "completed"
    },
    "tags": []
   },
   "outputs": [
    {
     "data": {
      "text/html": [
       "<div>\n",
       "<style scoped>\n",
       "    .dataframe tbody tr th:only-of-type {\n",
       "        vertical-align: middle;\n",
       "    }\n",
       "\n",
       "    .dataframe tbody tr th {\n",
       "        vertical-align: top;\n",
       "    }\n",
       "\n",
       "    .dataframe thead th {\n",
       "        text-align: right;\n",
       "    }\n",
       "</style>\n",
       "<table border=\"1\" class=\"dataframe\">\n",
       "  <thead>\n",
       "    <tr style=\"text-align: right;\">\n",
       "      <th></th>\n",
       "      <th>customer_ID</th>\n",
       "      <th>target</th>\n",
       "    </tr>\n",
       "  </thead>\n",
       "  <tbody>\n",
       "    <tr>\n",
       "      <th>0</th>\n",
       "      <td>0000099d6bd597052cdcda90ffabf56573fe9d7c79be5f...</td>\n",
       "      <td>0</td>\n",
       "    </tr>\n",
       "    <tr>\n",
       "      <th>1</th>\n",
       "      <td>00000fd6641609c6ece5454664794f0340ad84dddce9a2...</td>\n",
       "      <td>0</td>\n",
       "    </tr>\n",
       "    <tr>\n",
       "      <th>2</th>\n",
       "      <td>00001b22f846c82c51f6e3958ccd81970162bae8b007e8...</td>\n",
       "      <td>0</td>\n",
       "    </tr>\n",
       "    <tr>\n",
       "      <th>3</th>\n",
       "      <td>000041bdba6ecadd89a52d11886e8eaaec9325906c9723...</td>\n",
       "      <td>0</td>\n",
       "    </tr>\n",
       "    <tr>\n",
       "      <th>4</th>\n",
       "      <td>00007889e4fcd2614b6cbe7f8f3d2e5c728eca32d9eb8a...</td>\n",
       "      <td>0</td>\n",
       "    </tr>\n",
       "  </tbody>\n",
       "</table>\n",
       "</div>"
      ],
      "text/plain": [
       "                                         customer_ID  target\n",
       "0  0000099d6bd597052cdcda90ffabf56573fe9d7c79be5f...       0\n",
       "1  00000fd6641609c6ece5454664794f0340ad84dddce9a2...       0\n",
       "2  00001b22f846c82c51f6e3958ccd81970162bae8b007e8...       0\n",
       "3  000041bdba6ecadd89a52d11886e8eaaec9325906c9723...       0\n",
       "4  00007889e4fcd2614b6cbe7f8f3d2e5c728eca32d9eb8a...       0"
      ]
     },
     "execution_count": 2,
     "metadata": {},
     "output_type": "execute_result"
    }
   ],
   "source": [
    "TARGET = 'target'\n",
    "\n",
    "train_labels = pd.read_csv('../input/amex-default-prediction/train_labels.csv')\n",
    "train_labels.head()"
   ]
  },
  {
   "cell_type": "code",
   "execution_count": 3,
   "id": "220a2351",
   "metadata": {
    "execution": {
     "iopub.execute_input": "2022-06-16T01:15:25.864800Z",
     "iopub.status.busy": "2022-06-16T01:15:25.863956Z",
     "iopub.status.idle": "2022-06-16T01:15:26.177128Z",
     "shell.execute_reply": "2022-06-16T01:15:26.176035Z"
    },
    "papermill": {
     "duration": 0.319456,
     "end_time": "2022-06-16T01:15:26.179660",
     "exception": false,
     "start_time": "2022-06-16T01:15:25.860204",
     "status": "completed"
    },
    "tags": []
   },
   "outputs": [],
   "source": [
    "split_params = [train_labels.drop(TARGET, axis=1), \n",
    "                train_labels[TARGET]]\n",
    "\n",
    "x_train, x_test, y_train, y_test = train_test_split(*split_params, \n",
    "                                                    stratify=train_labels[TARGET])"
   ]
  },
  {
   "cell_type": "code",
   "execution_count": 4,
   "id": "38719969",
   "metadata": {
    "execution": {
     "iopub.execute_input": "2022-06-16T01:15:26.186650Z",
     "iopub.status.busy": "2022-06-16T01:15:26.186263Z",
     "iopub.status.idle": "2022-06-16T01:15:26.215247Z",
     "shell.execute_reply": "2022-06-16T01:15:26.214443Z"
    },
    "papermill": {
     "duration": 0.034719,
     "end_time": "2022-06-16T01:15:26.217244",
     "exception": false,
     "start_time": "2022-06-16T01:15:26.182525",
     "status": "completed"
    },
    "tags": []
   },
   "outputs": [
    {
     "data": {
      "text/plain": [
       "DummyClassifier(strategy='stratified')"
      ]
     },
     "execution_count": 4,
     "metadata": {},
     "output_type": "execute_result"
    }
   ],
   "source": [
    "model = DummyClassifier(strategy='stratified')\n",
    "\n",
    "model.fit(x_train, y_train)"
   ]
  },
  {
   "cell_type": "code",
   "execution_count": 5,
   "id": "40252593",
   "metadata": {
    "execution": {
     "iopub.execute_input": "2022-06-16T01:15:26.224736Z",
     "iopub.status.busy": "2022-06-16T01:15:26.224167Z",
     "iopub.status.idle": "2022-06-16T01:15:26.646435Z",
     "shell.execute_reply": "2022-06-16T01:15:26.645797Z"
    },
    "papermill": {
     "duration": 0.428145,
     "end_time": "2022-06-16T01:15:26.648303",
     "exception": false,
     "start_time": "2022-06-16T01:15:26.220158",
     "status": "completed"
    },
    "tags": []
   },
   "outputs": [
    {
     "name": "stdout",
     "output_type": "stream",
     "text": [
      "              precision    recall  f1-score   support\n",
      "\n",
      "           0       0.74      0.74      0.74     85022\n",
      "           1       0.26      0.26      0.26     29707\n",
      "\n",
      "    accuracy                           0.62    114729\n",
      "   macro avg       0.50      0.50      0.50    114729\n",
      "weighted avg       0.62      0.62      0.62    114729\n",
      " \n",
      "\n"
     ]
    },
    {
     "data": {
      "text/plain": [
       "(array([0.5, 1.5]), [Text(0, 0.5, '0'), Text(0, 1.5, '1')])"
      ]
     },
     "execution_count": 5,
     "metadata": {},
     "output_type": "execute_result"
    },
    {
     "data": {
      "image/png": "[encoded data removed]",
      "text/plain": [
       "<Figure size 432x288 with 1 Axes>"
      ]
     },
     "metadata": {
      "needs_background": "light"
     },
     "output_type": "display_data"
    }
   ],
   "source": [
    "y_preds = model.predict(x_test)\n",
    "\n",
    "# Show classification_report\n",
    "print(metrics.classification_report(y_test, y_preds), '\\n')\n",
    "\n",
    "# Plot confusion matrix\n",
    "cm = metrics.confusion_matrix(y_test, model.predict(y_preds))\n",
    "fig, ax = plt.subplots()\n",
    "sns.heatmap(cm, annot=True, fmt='d', ax=ax, cmap=plt.cm.Blues, \n",
    "            cbar=False)\n",
    "ax.set(xlabel=\"Pred\", ylabel=\"True\", xticklabels=y_test.unique(), \n",
    "       yticklabels=y_test.unique(), title=\"Confusion matrix\")\n",
    "plt.yticks(rotation=0)\n"
   ]
  }
 ],
 "metadata": {
  "kernelspec": {
   "display_name": "Python 3",
   "language": "python",
   "name": "python3"
  },
  "language_info": {
   "codemirror_mode": {
    "name": "ipython",
    "version": 3
   },
   "file_extension": ".py",
   "mimetype": "text/x-python",
   "name": "python",
   "nbconvert_exporter": "python",
   "pygments_lexer": "ipython3",
   "version": "3.7.12"
  },
  "papermill": {
   "default_parameters": {},
   "duration": 13.453229,
   "end_time": "2022-06-16T01:15:27.371310",
   "environment_variables": {},
   "exception": null,
   "input_path": "__notebook__.ipynb",
   "output_path": "__notebook__.ipynb",
   "parameters": {},
   "start_time": "2022-06-16T01:15:13.918081",
   "version": "2.3.4"
  }
 },
 "nbformat": 4,
 "nbformat_minor": 5
}
